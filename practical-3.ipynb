{
 "cells": [
  {
   "cell_type": "markdown",
   "id": "27f22337",
   "metadata": {
    "papermill": {
     "duration": 0.003105,
     "end_time": "2023-11-06T08:03:19.868098",
     "exception": false,
     "start_time": "2023-11-06T08:03:19.864993",
     "status": "completed"
    },
    "tags": []
   },
   "source": [
    "# to split an array of 14 elements into 3 arrays, each with 2, 4, and 8 elements in the original order"
   ]
  },
  {
   "cell_type": "code",
   "execution_count": 1,
   "id": "a3bac040",
   "metadata": {
    "execution": {
     "iopub.execute_input": "2023-11-06T08:03:19.876967Z",
     "iopub.status.busy": "2023-11-06T08:03:19.876112Z",
     "iopub.status.idle": "2023-11-06T08:03:19.894206Z",
     "shell.execute_reply": "2023-11-06T08:03:19.893028Z"
    },
    "papermill": {
     "duration": 0.026509,
     "end_time": "2023-11-06T08:03:19.897804",
     "exception": false,
     "start_time": "2023-11-06T08:03:19.871295",
     "status": "completed"
    },
    "tags": []
   },
   "outputs": [
    {
     "name": "stdout",
     "output_type": "stream",
     "text": [
      "Original array :  [ 1  2  3  4  5  6  7  8  9 10 11 12 13 14]\n",
      "After Splitting Array : \n",
      "[array([1, 2]), array([3, 4, 5, 6]), array([ 7,  8,  9, 10, 11, 12, 13, 14])]\n"
     ]
    }
   ],
   "source": [
    "# 216270307006\n",
    "# odedra manshvi\n",
    "\n",
    "import numpy as np\n",
    "\n",
    "a = np.arange(1, 15)\n",
    "print(\"Original array : \",a)\n",
    "\n",
    "print(\"After Splitting Array : \")\n",
    "\n",
    "print(np.split(a, [2, 6]))\n"
   ]
  },
  {
   "cell_type": "markdown",
   "id": "f4655ad1",
   "metadata": {
    "papermill": {
     "duration": 0.003167,
     "end_time": "2023-11-06T08:03:19.904115",
     "exception": false,
     "start_time": "2023-11-06T08:03:19.900948",
     "status": "completed"
    },
    "tags": []
   },
   "source": [
    "# to stack arrays horizontally (column wise)"
   ]
  },
  {
   "cell_type": "code",
   "execution_count": 2,
   "id": "a08f4e59",
   "metadata": {
    "execution": {
     "iopub.execute_input": "2023-11-06T08:03:19.912926Z",
     "iopub.status.busy": "2023-11-06T08:03:19.912520Z",
     "iopub.status.idle": "2023-11-06T08:03:19.921009Z",
     "shell.execute_reply": "2023-11-06T08:03:19.919504Z"
    },
    "papermill": {
     "duration": 0.0165,
     "end_time": "2023-11-06T08:03:19.924552",
     "exception": false,
     "start_time": "2023-11-06T08:03:19.908052",
     "status": "completed"
    },
    "tags": []
   },
   "outputs": [
    {
     "name": "stdout",
     "output_type": "stream",
     "text": [
      "1st Array :  [11 12 13]\n",
      "2nd Array :  [14 15 16]\n",
      "Horizontally Stacked Array :  [11 12 13 14 15 16]\n"
     ]
    }
   ],
   "source": [
    "# 216270307006\n",
    "# odedra manshvi\n",
    "\n",
    "\n",
    "import numpy as np\n",
    "\n",
    "i1 = np.array([ 11, 12, 13] )\n",
    "print (\"1st Array : \", i1)\n",
    "\n",
    "i2 = np.array([ 14, 15, 16] )\n",
    "print (\"2nd Array : \", i2)\n",
    "\n",
    "ans = np.hstack((i1, i2))\n",
    "print (\"Horizontally Stacked Array : \", ans)"
   ]
  },
  {
   "cell_type": "code",
   "execution_count": null,
   "id": "645ab2bd",
   "metadata": {
    "papermill": {
     "duration": 0.002774,
     "end_time": "2023-11-06T08:03:19.930237",
     "exception": false,
     "start_time": "2023-11-06T08:03:19.927463",
     "status": "completed"
    },
    "tags": []
   },
   "outputs": [],
   "source": []
  }
 ],
 "metadata": {
  "kernelspec": {
   "display_name": "Python 3",
   "language": "python",
   "name": "python3"
  },
  "language_info": {
   "codemirror_mode": {
    "name": "ipython",
    "version": 3
   },
   "file_extension": ".py",
   "mimetype": "text/x-python",
   "name": "python",
   "nbconvert_exporter": "python",
   "pygments_lexer": "ipython3",
   "version": "3.10.12"
  },
  "papermill": {
   "default_parameters": {},
   "duration": 4.710946,
   "end_time": "2023-11-06T08:03:20.456062",
   "environment_variables": {},
   "exception": null,
   "input_path": "__notebook__.ipynb",
   "output_path": "__notebook__.ipynb",
   "parameters": {},
   "start_time": "2023-11-06T08:03:15.745116",
   "version": "2.4.0"
  }
 },
 "nbformat": 4,
 "nbformat_minor": 5
}

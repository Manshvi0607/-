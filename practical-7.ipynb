{
 "cells": [
  {
   "cell_type": "markdown",
   "id": "8d0d7fce",
   "metadata": {
    "_cell_guid": "b1076dfc-b9ad-4769-8c92-a6c4dae69d19",
    "_uuid": "8f2839f25d086af736a60e9eeb907d3b93b6e0e5",
    "papermill": {
     "duration": 0.003665,
     "end_time": "2023-11-06T08:07:00.521197",
     "exception": false,
     "start_time": "2023-11-06T08:07:00.517532",
     "status": "completed"
    },
    "tags": []
   },
   "source": [
    "# to create a dataframe from a dictionary and display it"
   ]
  },
  {
   "cell_type": "code",
   "execution_count": 1,
   "id": "4497d450",
   "metadata": {
    "execution": {
     "iopub.execute_input": "2023-11-06T08:07:00.531648Z",
     "iopub.status.busy": "2023-11-06T08:07:00.531050Z",
     "iopub.status.idle": "2023-11-06T08:07:00.962087Z",
     "shell.execute_reply": "2023-11-06T08:07:00.960992Z"
    },
    "papermill": {
     "duration": 0.440887,
     "end_time": "2023-11-06T08:07:00.965570",
     "exception": false,
     "start_time": "2023-11-06T08:07:00.524683",
     "status": "completed"
    },
    "tags": []
   },
   "outputs": [
    {
     "name": "stdout",
     "output_type": "stream",
     "text": [
      "Dictionary :\n",
      " {'Name': ['Mnaa', 'Jiya', 'Kinal', 'Rmaa'], 'Age': [20, 17, 18, 19], 'City': ['Bhavnagar', 'Porbandar', 'Rajkot', 'Vadodra']}\n",
      "\n",
      "DataFrame :\n",
      "     Name  Age       City\n",
      "0   Mnaa   20  Bhavnagar\n",
      "1   Jiya   17  Porbandar\n",
      "2  Kinal   18     Rajkot\n",
      "3   Rmaa   19    Vadodra\n"
     ]
    }
   ],
   "source": [
    "# 216270307006\n",
    "# odedra manshvi\n",
    "import pandas as pd\n",
    "\n",
    "dicti = {\n",
    "    'Name' : ['Mnaa', 'Jiya', 'Kinal', 'Rmaa'],\n",
    "    'Age' : [20, 17, 18, 19],\n",
    "    'City' : ['Bhavnagar', 'Porbandar', 'Rajkot', 'Vadodra'],\n",
    "}\n",
    "print(\"Dictionary :\\n\",dicti)\n",
    "\n",
    "df = pd.DataFrame(dicti)\n",
    "print(\"\\nDataFrame :\\n\",df)"
   ]
  },
  {
   "cell_type": "markdown",
   "id": "2707a115",
   "metadata": {
    "papermill": {
     "duration": 0.00286,
     "end_time": "2023-11-06T08:07:00.971646",
     "exception": false,
     "start_time": "2023-11-06T08:07:00.968786",
     "status": "completed"
    },
    "tags": []
   },
   "source": [
    "# to sort the DataFrame first by 'name' in ascending order"
   ]
  },
  {
   "cell_type": "code",
   "execution_count": 2,
   "id": "d25de77c",
   "metadata": {
    "execution": {
     "iopub.execute_input": "2023-11-06T08:07:00.979417Z",
     "iopub.status.busy": "2023-11-06T08:07:00.978874Z",
     "iopub.status.idle": "2023-11-06T08:07:00.996113Z",
     "shell.execute_reply": "2023-11-06T08:07:00.995028Z"
    },
    "papermill": {
     "duration": 0.023896,
     "end_time": "2023-11-06T08:07:00.998531",
     "exception": false,
     "start_time": "2023-11-06T08:07:00.974635",
     "status": "completed"
    },
    "tags": []
   },
   "outputs": [
    {
     "name": "stdout",
     "output_type": "stream",
     "text": [
      "Before sorting:\n",
      "     Name  Age       City\n",
      "0   Mnaa   20  Bhavnagar\n",
      "1   Jiya   17  Porbandar\n",
      "2  Kinal   18     Rajkot\n",
      "3   Rmaa   19    Vadodra\n",
      "\n",
      "After sorting:\n",
      "     Name  Age       City\n",
      "1   Jiya   17  Porbandar\n",
      "2  Kinal   18     Rajkot\n",
      "0   Mnaa   20  Bhavnagar\n",
      "3   Rmaa   19    Vadodra\n"
     ]
    }
   ],
   "source": [
    "# 216270307006\n",
    "# odedra manshvi\n",
    "import pandas as pd\n",
    "\n",
    "df = pd.DataFrame(dicti)\n",
    "\n",
    "print(\"Before sorting:\\n\", df)\n",
    "\n",
    "print(\"\\nAfter sorting:\\n\", df.sort_values(by='Name',ascending=True))"
   ]
  },
  {
   "cell_type": "markdown",
   "id": "b584f305",
   "metadata": {
    "papermill": {
     "duration": 0.002971,
     "end_time": "2023-11-06T08:07:01.004836",
     "exception": false,
     "start_time": "2023-11-06T08:07:01.001865",
     "status": "completed"
    },
    "tags": []
   },
   "source": [
    "#  to delete the one specific column from the DataFrame"
   ]
  },
  {
   "cell_type": "code",
   "execution_count": 3,
   "id": "191e172c",
   "metadata": {
    "execution": {
     "iopub.execute_input": "2023-11-06T08:07:01.012902Z",
     "iopub.status.busy": "2023-11-06T08:07:01.012500Z",
     "iopub.status.idle": "2023-11-06T08:07:01.029926Z",
     "shell.execute_reply": "2023-11-06T08:07:01.028807Z"
    },
    "papermill": {
     "duration": 0.024526,
     "end_time": "2023-11-06T08:07:01.032619",
     "exception": false,
     "start_time": "2023-11-06T08:07:01.008093",
     "status": "completed"
    },
    "tags": []
   },
   "outputs": [
    {
     "name": "stdout",
     "output_type": "stream",
     "text": [
      "Before Delete Column : \n",
      "     Name  Age       City\n",
      "0   Mnaa   20  Bhavnagar\n",
      "1   Jiya   17  Porbandar\n",
      "2  Kinal   18     Rajkot\n",
      "3   Rmaa   19    Vadodra\n",
      "After Delete Column :\n",
      "     Name  Age\n",
      "0   Mnaa   20\n",
      "1   Jiya   17\n",
      "2  Kinal   18\n",
      "3   Rmaa   19\n"
     ]
    }
   ],
   "source": [
    "# 216270307006\n",
    "# odedra manshvi\n",
    "import pandas as pd\n",
    "\n",
    "df = pd.DataFrame(dicti)\n",
    "\n",
    "print(\"Before Delete Column : \\n\",df)\n",
    "\n",
    "print(\"After Delete Column :\\n\",df.drop(['City'], axis=1))"
   ]
  },
  {
   "cell_type": "markdown",
   "id": "a74d6858",
   "metadata": {
    "papermill": {
     "duration": 0.00353,
     "end_time": "2023-11-06T08:07:01.039777",
     "exception": false,
     "start_time": "2023-11-06T08:07:01.036247",
     "status": "completed"
    },
    "tags": []
   },
   "source": [
    "#  to write a DataFrame to CSV file using tab separator"
   ]
  },
  {
   "cell_type": "code",
   "execution_count": 4,
   "id": "29871836",
   "metadata": {
    "execution": {
     "iopub.execute_input": "2023-11-06T08:07:01.048460Z",
     "iopub.status.busy": "2023-11-06T08:07:01.048068Z",
     "iopub.status.idle": "2023-11-06T08:07:01.066798Z",
     "shell.execute_reply": "2023-11-06T08:07:01.065649Z"
    },
    "papermill": {
     "duration": 0.026079,
     "end_time": "2023-11-06T08:07:01.069346",
     "exception": false,
     "start_time": "2023-11-06T08:07:01.043267",
     "status": "completed"
    },
    "tags": []
   },
   "outputs": [
    {
     "name": "stdout",
     "output_type": "stream",
     "text": [
      "Original DataFrame :\n",
      "     Name  Age       City\n",
      "0   Mnaa   20  Bhavnagar\n",
      "1   Jiya   17  Porbandar\n",
      "2  Kinal   18     Rajkot\n",
      "3   Rmaa   19    Vadodra\n",
      "\n",
      "Data from Students.csv :\n",
      "         \\tName\\tAge\\tCity\n",
      "0  0\\tMnaa\\t20\\tBhavnagar\n",
      "1  1\\tJiya\\t17\\tPorbandar\n",
      "2    2\\tKinal\\t18\\tRajkot\n",
      "3    3\\tRmaa\\t19\\tVadodra\n"
     ]
    }
   ],
   "source": [
    "# 216270307006\n",
    "# odedra manshvi\n",
    "\n",
    "import pandas as pd\n",
    "# import numpy as np\n",
    "\n",
    "df = pd.DataFrame(dicti)\n",
    "\n",
    "print(\"Original DataFrame :\\n\",df)\n",
    "\n",
    "df.to_csv('Students.csv', sep ='\\t')\n",
    "\n",
    "new_df = pd.read_csv('Students.csv')\n",
    "\n",
    "print('\\nData from Students.csv :\\n',new_df)\n"
   ]
  }
 ],
 "metadata": {
  "kernelspec": {
   "display_name": "Python 3",
   "language": "python",
   "name": "python3"
  },
  "language_info": {
   "codemirror_mode": {
    "name": "ipython",
    "version": 3
   },
   "file_extension": ".py",
   "mimetype": "text/x-python",
   "name": "python",
   "nbconvert_exporter": "python",
   "pygments_lexer": "ipython3",
   "version": "3.10.12"
  },
  "papermill": {
   "default_parameters": {},
   "duration": 4.536966,
   "end_time": "2023-11-06T08:07:01.493209",
   "environment_variables": {},
   "exception": null,
   "input_path": "__notebook__.ipynb",
   "output_path": "__notebook__.ipynb",
   "parameters": {},
   "start_time": "2023-11-06T08:06:56.956243",
   "version": "2.4.0"
  }
 },
 "nbformat": 4,
 "nbformat_minor": 5
}

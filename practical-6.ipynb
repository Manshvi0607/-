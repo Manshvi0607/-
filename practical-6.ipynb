{
 "cells": [
  {
   "cell_type": "markdown",
   "id": "ab362082",
   "metadata": {
    "papermill": {
     "duration": 0.003895,
     "end_time": "2023-11-06T08:06:08.111115",
     "exception": false,
     "start_time": "2023-11-06T08:06:08.107220",
     "status": "completed"
    },
    "tags": []
   },
   "source": [
    "# to convert a NumPy array to a Pandas series"
   ]
  },
  {
   "cell_type": "code",
   "execution_count": 1,
   "id": "d3257b4d",
   "metadata": {
    "execution": {
     "iopub.execute_input": "2023-11-06T08:06:08.122002Z",
     "iopub.status.busy": "2023-11-06T08:06:08.121313Z",
     "iopub.status.idle": "2023-11-06T08:06:08.564108Z",
     "shell.execute_reply": "2023-11-06T08:06:08.562919Z"
    },
    "papermill": {
     "duration": 0.453221,
     "end_time": "2023-11-06T08:06:08.567726",
     "exception": false,
     "start_time": "2023-11-06T08:06:08.114505",
     "status": "completed"
    },
    "tags": []
   },
   "outputs": [
    {
     "name": "stdout",
     "output_type": "stream",
     "text": [
      "['M' 'a' 'n' 'n' 'a' 'a']\n",
      "Pandas Series:\n",
      " 0    M\n",
      "1    a\n",
      "2    n\n",
      "3    n\n",
      "4    a\n",
      "5    a\n",
      "dtype: object\n"
     ]
    }
   ],
   "source": [
    "# 216270307006\n",
    "# odedra manshvi\n",
    "import pandas as pd\n",
    "import numpy as np\n",
    "\n",
    "seri = pd.Series();\n",
    "\n",
    "d = np.array(['M', 'a', 'n', 'n', 'a','a']) \n",
    "print(d)\n",
    "\n",
    "s = pd.Series(d)\n",
    "\n",
    "print(\"Pandas Series:\\n\",s)\n"
   ]
  },
  {
   "cell_type": "markdown",
   "id": "13231afe",
   "metadata": {
    "papermill": {
     "duration": 0.003085,
     "end_time": "2023-11-06T08:06:08.574348",
     "exception": false,
     "start_time": "2023-11-06T08:06:08.571263",
     "status": "completed"
    },
    "tags": []
   },
   "source": [
    "# to convert the first column of a DataFrame as a Series\n"
   ]
  },
  {
   "cell_type": "code",
   "execution_count": 2,
   "id": "2bf1e481",
   "metadata": {
    "execution": {
     "iopub.execute_input": "2023-11-06T08:06:08.582799Z",
     "iopub.status.busy": "2023-11-06T08:06:08.582152Z",
     "iopub.status.idle": "2023-11-06T08:06:08.594462Z",
     "shell.execute_reply": "2023-11-06T08:06:08.593714Z"
    },
    "papermill": {
     "duration": 0.019935,
     "end_time": "2023-11-06T08:06:08.597548",
     "exception": false,
     "start_time": "2023-11-06T08:06:08.577613",
     "status": "completed"
    },
    "tags": []
   },
   "outputs": [
    {
     "name": "stdout",
     "output_type": "stream",
     "text": [
      "Empty DataFrame\n",
      "Columns: []\n",
      "Index: []\n",
      "Dataframe\n",
      "         0\n",
      "0  Manshvi\n",
      "1        R\n",
      "2   Odedra\n"
     ]
    }
   ],
   "source": [
    "# 216270307006\n",
    "# odedra manshvi\n",
    "\n",
    "import pandas as pd \n",
    "\n",
    "dframe = pd.DataFrame() \n",
    "print(dframe)\n",
    "\n",
    "lst = ['Manshvi', 'R', 'Odedra'] \n",
    "\n",
    "dframe = pd.DataFrame(lst) \n",
    "print(\"Dataframe\")\n",
    "\n",
    "print(dframe)\n"
   ]
  },
  {
   "cell_type": "markdown",
   "id": "27610e82",
   "metadata": {
    "papermill": {
     "duration": 0.004488,
     "end_time": "2023-11-06T08:06:08.607072",
     "exception": false,
     "start_time": "2023-11-06T08:06:08.602584",
     "status": "completed"
    },
    "tags": []
   },
   "source": [
    "# to create the mean and standard deviation of the data of a given Series"
   ]
  },
  {
   "cell_type": "code",
   "execution_count": 3,
   "id": "30948973",
   "metadata": {
    "execution": {
     "iopub.execute_input": "2023-11-06T08:06:08.617584Z",
     "iopub.status.busy": "2023-11-06T08:06:08.616517Z",
     "iopub.status.idle": "2023-11-06T08:06:08.627683Z",
     "shell.execute_reply": "2023-11-06T08:06:08.626553Z"
    },
    "papermill": {
     "duration": 0.018501,
     "end_time": "2023-11-06T08:06:08.630247",
     "exception": false,
     "start_time": "2023-11-06T08:06:08.611746",
     "status": "completed"
    },
    "tags": []
   },
   "outputs": [
    {
     "name": "stdout",
     "output_type": "stream",
     "text": [
      "Original Series : -  0    9\n",
      "1    6\n",
      "2    6\n",
      "3    4\n",
      "4    8\n",
      "5    6\n",
      "6    9\n",
      "7    4\n",
      "8    0\n",
      "9    5\n",
      "dtype: int64\n",
      "Mean Value : -  5.7\n",
      "Standard Deviation : -  2.7100635498903793\n"
     ]
    }
   ],
   "source": [
    "# 216270307006\n",
    "# odedra manshvi\n",
    "\n",
    "import numpy as np\n",
    "import pandas as pd\n",
    "\n",
    "s = pd.Series(data=[9,6,6,4,8,6,9,4,0,5])\n",
    "print(\"Original Series : - \",s)\n",
    "\n",
    "a = s.mean();\n",
    "print(\"Mean Value : - \",a)\n",
    "\n",
    "b = s.std();\n",
    "print(\"Standard Deviation : - \",b)\n"
   ]
  },
  {
   "cell_type": "markdown",
   "id": "364ade10",
   "metadata": {
    "papermill": {
     "duration": 0.003307,
     "end_time": "2023-11-06T08:06:08.637247",
     "exception": false,
     "start_time": "2023-11-06T08:06:08.633940",
     "status": "completed"
    },
    "tags": []
   },
   "source": [
    "# to sort a given Series\n"
   ]
  },
  {
   "cell_type": "code",
   "execution_count": 4,
   "id": "3b8b4167",
   "metadata": {
    "execution": {
     "iopub.execute_input": "2023-11-06T08:06:08.646559Z",
     "iopub.status.busy": "2023-11-06T08:06:08.645512Z",
     "iopub.status.idle": "2023-11-06T08:06:08.661327Z",
     "shell.execute_reply": "2023-11-06T08:06:08.659487Z"
    },
    "papermill": {
     "duration": 0.025132,
     "end_time": "2023-11-06T08:06:08.665880",
     "exception": false,
     "start_time": "2023-11-06T08:06:08.640748",
     "status": "completed"
    },
    "tags": []
   },
   "outputs": [
    {
     "name": "stdout",
     "output_type": "stream",
     "text": [
      "0     9.5000\n",
      "1    16.8000\n",
      "2    22.7800\n",
      "3    20.1240\n",
      "4    18.1002\n",
      "dtype: float64\n",
      "0     9.5000\n",
      "1    16.8000\n",
      "4    18.1002\n",
      "3    20.1240\n",
      "2    22.7800\n",
      "dtype: float64\n"
     ]
    }
   ],
   "source": [
    "# 216270307006\n",
    "# odedra manshvi\n",
    "\n",
    "import pandas as pd\n",
    "str = pd.Series([9.5, 16.8, 22.78, 20.124, 18.1002])\n",
    "\n",
    "print(str)\n",
    "\n",
    "a = str.sort_values(ascending=True)\n",
    "print(a)"
   ]
  }
 ],
 "metadata": {
  "kernelspec": {
   "display_name": "Python 3",
   "language": "python",
   "name": "python3"
  },
  "language_info": {
   "codemirror_mode": {
    "name": "ipython",
    "version": 3
   },
   "file_extension": ".py",
   "mimetype": "text/x-python",
   "name": "python",
   "nbconvert_exporter": "python",
   "pygments_lexer": "ipython3",
   "version": "3.10.12"
  },
  "papermill": {
   "default_parameters": {},
   "duration": 4.592456,
   "end_time": "2023-11-06T08:06:09.093044",
   "environment_variables": {},
   "exception": null,
   "input_path": "__notebook__.ipynb",
   "output_path": "__notebook__.ipynb",
   "parameters": {},
   "start_time": "2023-11-06T08:06:04.500588",
   "version": "2.4.0"
  }
 },
 "nbformat": 4,
 "nbformat_minor": 5
}

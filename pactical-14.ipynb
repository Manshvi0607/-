{
 "cells": [
  {
   "cell_type": "markdown",
   "id": "2395c334",
   "metadata": {
    "papermill": {
     "duration": 0.002314,
     "end_time": "2023-11-06T07:58:45.618512",
     "exception": false,
     "start_time": "2023-11-06T07:58:45.616198",
     "status": "completed"
    },
    "tags": []
   },
   "source": [
    "# Write a Python program to implement a machine learning algorithm for given dataset. (It is recommended to assign different machine learning algorithms group wise – micro project) "
   ]
  },
  {
   "cell_type": "raw",
   "id": "e6841246",
   "metadata": {
    "_cell_guid": "b1076dfc-b9ad-4769-8c92-a6c4dae69d19",
    "_uuid": "8f2839f25d086af736a60e9eeb907d3b93b6e0e5",
    "papermill": {
     "duration": 0.001482,
     "end_time": "2023-11-06T07:58:45.622009",
     "exception": false,
     "start_time": "2023-11-06T07:58:45.620527",
     "status": "completed"
    },
    "tags": []
   },
   "source": [
    "#216270307006\n",
    "#odedra manshvi\n",
    "\n",
    " \n",
    "0\tham Go until jurong point, crazy.. Available only …\tNaN\n",
    "1\tham\tOk lar… Joking wif u oni…\tNaN\n",
    "2 spam Free entry in 2 a wkly comp to win FA Cup fina…\tNaN\n",
    "3\tham U dun say so early hor… U c already then say…\tNaN\n",
    "4\tham Nah I don't think he goes to usf, he lives aro…\n",
    "Unnamed: 3 Unnamed: 4\n",
    "0\tNaN\tNaN\n",
    "1\tNaN\tNaN\n",
    "2\tNaN\tNaN\n",
    "3\tNaN\tNaN\n",
    "4\tNaN\tNaN\tNaN\n",
    " \n",
    "Index(['class', 'message', 'Unnamed: 2', 'Unnamed: 3', 'Unnamed: 4 '], dtype='object')\n",
    " \n",
    "[12]:\tclass\tmessage Unnamed: 2\t\\\n",
    "0\tham\tGo until jurong point, crazy.. Available only …\tNaN\t\n",
    "1\tham\tOk lar… Joking wif u oni…\tNaN\t\n",
    "2\tspam\tFree entry in 2 a wkly comp to win FA Cup fina…\tNaN\t\n",
    "3\tham\tU dun say so early hor… U c already then say…\tNaN\t\n",
    "4\tham\tNah I don't think he goes to usf, he lives aro…\tNaN\t\n",
    "Unnamed: 3 Unnamed: 4\n",
    "0\tNaN\tNaN\n",
    "1\tNaN\tNaN\n",
    "2\tNaN\tNaN\n",
    "3\tNaN\tNaN\n",
    "4\tNaN\tNaN\n",
    " \n",
    "[36]: class\tmessage Unnamed: 2 \\\n",
    "0\t0 Go until jurong point, crazy.. Available only …\tNaN\n",
    "1\t0\tOk lar… Joking wif u oni…\tNaN\n",
    "2\t1 Free entry in 2 a wkly comp to win FA Cup fina…\tNaN\n",
    "3\t0 U dun say so early hor… U c already then say…\tNaN\n",
    "4\t0 Nah I don't think he goes to usf, he lives aro…\tNaN\n",
    "Unnamed: 3 Unnamed: 4\n",
    "0\tNaN\tNaN\n",
    "1\tNaN\tNaN\n",
    "2\tNaN\tNaN\n",
    "3\tNaN\tNaN\n",
    "4\tNaN\tNaN\n",
    " \n",
    " \n",
    "[40]: (5572,)\n",
    "[42]: x\n",
    "[42]: <5572x8672 sparse matrix of type '<class 'numpy.int64'>' with 73916 stored elements in Compressed Sparse Row format>\n",
    "[57]: from sklearn.model_selection import train_test_split\n",
    " \n",
    "[61]: (4457, 8672)\n",
    " \n",
    " \n",
    " \n",
    " \n",
    "[0]\n",
    "[ ]: \n",
    "\n"
   ]
  }
 ],
 "metadata": {
  "kernelspec": {
   "display_name": "Python 3",
   "language": "python",
   "name": "python3"
  },
  "language_info": {
   "codemirror_mode": {
    "name": "ipython",
    "version": 3
   },
   "file_extension": ".py",
   "mimetype": "text/x-python",
   "name": "python",
   "nbconvert_exporter": "python",
   "pygments_lexer": "ipython3",
   "version": "3.10.12"
  },
  "papermill": {
   "default_parameters": {},
   "duration": 4.25607,
   "end_time": "2023-11-06T07:58:46.044153",
   "environment_variables": {},
   "exception": null,
   "input_path": "__notebook__.ipynb",
   "output_path": "__notebook__.ipynb",
   "parameters": {},
   "start_time": "2023-11-06T07:58:41.788083",
   "version": "2.4.0"
  }
 },
 "nbformat": 4,
 "nbformat_minor": 5
}

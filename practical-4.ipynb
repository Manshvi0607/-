{
 "cells": [
  {
   "cell_type": "markdown",
   "id": "ded5f4eb",
   "metadata": {
    "_cell_guid": "b1076dfc-b9ad-4769-8c92-a6c4dae69d19",
    "_uuid": "8f2839f25d086af736a60e9eeb907d3b93b6e0e5",
    "papermill": {
     "duration": 0.003088,
     "end_time": "2023-11-06T08:04:11.523603",
     "exception": false,
     "start_time": "2023-11-06T08:04:11.520515",
     "status": "completed"
    },
    "tags": []
   },
   "source": [
    "# to add, subtract, multiply, divide arguments element-wise"
   ]
  },
  {
   "cell_type": "code",
   "execution_count": 1,
   "id": "9e73af1a",
   "metadata": {
    "execution": {
     "iopub.execute_input": "2023-11-06T08:04:11.533127Z",
     "iopub.status.busy": "2023-11-06T08:04:11.532370Z",
     "iopub.status.idle": "2023-11-06T08:04:11.544357Z",
     "shell.execute_reply": "2023-11-06T08:04:11.543183Z"
    },
    "papermill": {
     "duration": 0.020256,
     "end_time": "2023-11-06T08:04:11.546720",
     "exception": false,
     "start_time": "2023-11-06T08:04:11.526464",
     "status": "completed"
    },
    "tags": []
   },
   "outputs": [
    {
     "name": "stdout",
     "output_type": "stream",
     "text": [
      "Addition : 3.0\n",
      "Subtraction : 4.0\n",
      "Multiplication : 4.0\n",
      "Division : 5.0\n"
     ]
    }
   ],
   "source": [
    "# 216270307006\n",
    "# odedra manshvi\n",
    "\n",
    "import numpy as np\n",
    "\n",
    "print(\"Addition : \",end=\"\")\n",
    "print(np.add(1.0, 2.0))\n",
    "\n",
    "print(\"Subtraction : \",end=\"\")\n",
    "print(np.subtract(5.0, 1.0))\n",
    "\n",
    "print(\"Multiplication : \",end=\"\")\n",
    "print(np.multiply(2.0, 2.0))\n",
    "\n",
    "print(\"Division : \",end=\"\")\n",
    "print(np.divide(10.0, 2.0))\n"
   ]
  },
  {
   "cell_type": "markdown",
   "id": "d07a03cd",
   "metadata": {
    "papermill": {
     "duration": 0.002229,
     "end_time": "2023-11-06T08:04:11.551659",
     "exception": false,
     "start_time": "2023-11-06T08:04:11.549430",
     "status": "completed"
    },
    "tags": []
   },
   "source": [
    "# to round elements of the array to the nearest integer\n"
   ]
  },
  {
   "cell_type": "code",
   "execution_count": 2,
   "id": "0e646c4a",
   "metadata": {
    "execution": {
     "iopub.execute_input": "2023-11-06T08:04:11.558263Z",
     "iopub.status.busy": "2023-11-06T08:04:11.557861Z",
     "iopub.status.idle": "2023-11-06T08:04:11.565360Z",
     "shell.execute_reply": "2023-11-06T08:04:11.564650Z"
    },
    "papermill": {
     "duration": 0.013536,
     "end_time": "2023-11-06T08:04:11.567749",
     "exception": false,
     "start_time": "2023-11-06T08:04:11.554213",
     "status": "completed"
    },
    "tags": []
   },
   "outputs": [
    {
     "name": "stdout",
     "output_type": "stream",
     "text": [
      "Original Array : [0.2 0.7 1.3 1.5 2.1]\n",
      "Nearest Integer No. : [0. 1. 1. 2. 2.]\n"
     ]
    }
   ],
   "source": [
    "# 216270307006\n",
    "# odedra manshvi\n",
    "\n",
    "import numpy as np\n",
    "\n",
    "ele = np.array([0.2, 0.7, 1.3, 1.5, 2.1])\n",
    "print(\"Original Array : \",end=\"\")\n",
    "print(ele)\n",
    "\n",
    "ele = np.rint(ele)\n",
    "print(\"Nearest Integer No. : \",end=\"\")\n",
    "print(ele)"
   ]
  },
  {
   "cell_type": "markdown",
   "id": "0b6dbb90",
   "metadata": {
    "papermill": {
     "duration": 0.002408,
     "end_time": "2023-11-06T08:04:11.572709",
     "exception": false,
     "start_time": "2023-11-06T08:04:11.570301",
     "status": "completed"
    },
    "tags": []
   },
   "source": [
    "# to calculate mean across dimension, in a 2D numpy array"
   ]
  },
  {
   "cell_type": "code",
   "execution_count": 3,
   "id": "dcf755b5",
   "metadata": {
    "execution": {
     "iopub.execute_input": "2023-11-06T08:04:11.579330Z",
     "iopub.status.busy": "2023-11-06T08:04:11.578792Z",
     "iopub.status.idle": "2023-11-06T08:04:11.585533Z",
     "shell.execute_reply": "2023-11-06T08:04:11.584403Z"
    },
    "papermill": {
     "duration": 0.0126,
     "end_time": "2023-11-06T08:04:11.587757",
     "exception": false,
     "start_time": "2023-11-06T08:04:11.575157",
     "status": "completed"
    },
    "tags": []
   },
   "outputs": [
    {
     "name": "stdout",
     "output_type": "stream",
     "text": [
      "Original Array :- [[10 20]\n",
      " [30 40]]\n",
      "[20. 30.]\n",
      "[15. 35.]\n"
     ]
    }
   ],
   "source": [
    "# 216270307006\n",
    "# odedra manshvi\n",
    "\n",
    "import numpy as np\n",
    "\n",
    "arr = np.array([[10,20],[30,40]])\n",
    "print(\"Original Array :- \",end=\"\")\n",
    "print(arr)\n",
    "\n",
    "a = np.mean(arr,axis=0)\n",
    "print(a)\n",
    "\n",
    "b = np.mean(arr,axis=1)\n",
    "print(b)\n"
   ]
  },
  {
   "cell_type": "markdown",
   "id": "37644945",
   "metadata": {
    "papermill": {
     "duration": 0.002405,
     "end_time": "2023-11-06T08:04:11.593071",
     "exception": false,
     "start_time": "2023-11-06T08:04:11.590666",
     "status": "completed"
    },
    "tags": []
   },
   "source": [
    "# to calculate the difference between neighboring elements, elementwise of a given array"
   ]
  },
  {
   "cell_type": "code",
   "execution_count": 4,
   "id": "ab0fdd2d",
   "metadata": {
    "execution": {
     "iopub.execute_input": "2023-11-06T08:04:11.600225Z",
     "iopub.status.busy": "2023-11-06T08:04:11.599807Z",
     "iopub.status.idle": "2023-11-06T08:04:11.607200Z",
     "shell.execute_reply": "2023-11-06T08:04:11.605947Z"
    },
    "papermill": {
     "duration": 0.013886,
     "end_time": "2023-11-06T08:04:11.609546",
     "exception": false,
     "start_time": "2023-11-06T08:04:11.595660",
     "status": "completed"
    },
    "tags": []
   },
   "outputs": [
    {
     "name": "stdout",
     "output_type": "stream",
     "text": [
      "Original Array : [  2   5  15  35  60  90 130 150]\n",
      "Difference Of Two Elements : [ 3 10 20 25 30 40 20]\n"
     ]
    }
   ],
   "source": [
    "# 216270307006\n",
    "# odedra manshvi\n",
    "\n",
    "import numpy as np\n",
    "\n",
    "arr = np.array([2,5,15,35,60,90,130,150])\n",
    "print(\"Original Array : \",end=\"\")\n",
    "print(arr)\n",
    "\n",
    "ans = np.diff(arr)\n",
    "print(\"Difference Of Two Elements : \",end=\"\")\n",
    "print(ans)\n",
    "\n"
   ]
  }
 ],
 "metadata": {
  "kernelspec": {
   "display_name": "Python 3",
   "language": "python",
   "name": "python3"
  },
  "language_info": {
   "codemirror_mode": {
    "name": "ipython",
    "version": 3
   },
   "file_extension": ".py",
   "mimetype": "text/x-python",
   "name": "python",
   "nbconvert_exporter": "python",
   "pygments_lexer": "ipython3",
   "version": "3.10.12"
  },
  "papermill": {
   "default_parameters": {},
   "duration": 3.604114,
   "end_time": "2023-11-06T08:04:11.935821",
   "environment_variables": {},
   "exception": null,
   "input_path": "__notebook__.ipynb",
   "output_path": "__notebook__.ipynb",
   "parameters": {},
   "start_time": "2023-11-06T08:04:08.331707",
   "version": "2.4.0"
  }
 },
 "nbformat": 4,
 "nbformat_minor": 5
}

{
 "cells": [
  {
   "cell_type": "markdown",
   "id": "78acc233",
   "metadata": {
    "papermill": {
     "duration": 0.003181,
     "end_time": "2023-11-06T08:05:19.465306",
     "exception": false,
     "start_time": "2023-11-06T08:05:19.462125",
     "status": "completed"
    },
    "tags": []
   },
   "source": [
    "# to find the maximum and minimum value of a given flattened array\n"
   ]
  },
  {
   "cell_type": "code",
   "execution_count": 1,
   "id": "f04b2284",
   "metadata": {
    "_cell_guid": "b1076dfc-b9ad-4769-8c92-a6c4dae69d19",
    "_uuid": "8f2839f25d086af736a60e9eeb907d3b93b6e0e5",
    "execution": {
     "iopub.execute_input": "2023-11-06T08:05:19.473244Z",
     "iopub.status.busy": "2023-11-06T08:05:19.472357Z",
     "iopub.status.idle": "2023-11-06T08:05:19.493250Z",
     "shell.execute_reply": "2023-11-06T08:05:19.491438Z"
    },
    "papermill": {
     "duration": 0.028393,
     "end_time": "2023-11-06T08:05:19.496399",
     "exception": false,
     "start_time": "2023-11-06T08:05:19.468006",
     "status": "completed"
    },
    "tags": []
   },
   "outputs": [
    {
     "name": "stdout",
     "output_type": "stream",
     "text": [
      "Original Array : [[10 20 30]\n",
      " [40 50 60]]\n",
      "Maximum Value : 60\n",
      "Minimum Value : 10\n"
     ]
    }
   ],
   "source": [
    "# 216270307006\n",
    "# odedra manshvi\n",
    "\n",
    "import numpy as np\n",
    "\n",
    "arr = np.array([[10,20,30],[40,50,60]])\n",
    "\n",
    "print(\"Original Array : \",end=\"\")\n",
    "print(arr)\n",
    "\n",
    "print(\"Maximum Value : \",end=\"\")\n",
    "max = np.amax(arr)\n",
    "print(max)\n",
    "\n",
    "print(\"Minimum Value : \",end=\"\")\n",
    "min = np.amin(arr)\n",
    "print(min)\n"
   ]
  },
  {
   "cell_type": "markdown",
   "id": "78094706",
   "metadata": {
    "papermill": {
     "duration": 0.00225,
     "end_time": "2023-11-06T08:05:19.501283",
     "exception": false,
     "start_time": "2023-11-06T08:05:19.499033",
     "status": "completed"
    },
    "tags": []
   },
   "source": [
    "# to compute the mean, standard deviation, and variance of a given array along the second axis"
   ]
  },
  {
   "cell_type": "code",
   "execution_count": 2,
   "id": "b11bb95e",
   "metadata": {
    "execution": {
     "iopub.execute_input": "2023-11-06T08:05:19.508588Z",
     "iopub.status.busy": "2023-11-06T08:05:19.508147Z",
     "iopub.status.idle": "2023-11-06T08:05:19.520121Z",
     "shell.execute_reply": "2023-11-06T08:05:19.518502Z"
    },
    "papermill": {
     "duration": 0.019597,
     "end_time": "2023-11-06T08:05:19.523349",
     "exception": false,
     "start_time": "2023-11-06T08:05:19.503752",
     "status": "completed"
    },
    "tags": []
   },
   "outputs": [
    {
     "name": "stdout",
     "output_type": "stream",
     "text": [
      "Original array : [[19 20 21]\n",
      " [10 20 30]]\n",
      "Mean Value : [20. 20.]\n",
      "Standar Deviation : [0.81649658 8.16496581]\n",
      "Variance : [ 0.66666667 66.66666667]\n"
     ]
    }
   ],
   "source": [
    "# 216270307006\n",
    "# odedra manshvi\n",
    "\n",
    "import numpy as np\n",
    "\n",
    "arr = np.array([[19,20,21],[10,20,30]])\n",
    "\n",
    "print(\"Original array : \",end=\"\")\n",
    "print(arr)\n",
    "\n",
    "mean = np.mean(arr, axis = 1)\n",
    "print(\"Mean Value : \",end=\"\")\n",
    "print(mean)\n",
    "\n",
    "std = np.std(arr, axis = 1)\n",
    "print(\"Standar Deviation : \",end=\"\")\n",
    "print(std)\n",
    "\n",
    "var = np.var(arr, axis = 1)\n",
    "print(\"Variance : \",end=\"\")\n",
    "print(var)"
   ]
  }
 ],
 "metadata": {
  "kernelspec": {
   "display_name": "Python 3",
   "language": "python",
   "name": "python3"
  },
  "language_info": {
   "codemirror_mode": {
    "name": "ipython",
    "version": 3
   },
   "file_extension": ".py",
   "mimetype": "text/x-python",
   "name": "python",
   "nbconvert_exporter": "python",
   "pygments_lexer": "ipython3",
   "version": "3.10.12"
  },
  "papermill": {
   "default_parameters": {},
   "duration": 4.76047,
   "end_time": "2023-11-06T08:05:20.050212",
   "environment_variables": {},
   "exception": null,
   "input_path": "__notebook__.ipynb",
   "output_path": "__notebook__.ipynb",
   "parameters": {},
   "start_time": "2023-11-06T08:05:15.289742",
   "version": "2.4.0"
  }
 },
 "nbformat": 4,
 "nbformat_minor": 5
}

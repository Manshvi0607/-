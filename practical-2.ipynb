{
 "cells": [
  {
   "cell_type": "markdown",
   "id": "40cb6bf0",
   "metadata": {
    "papermill": {
     "duration": 0.002735,
     "end_time": "2023-11-06T08:01:37.901526",
     "exception": false,
     "start_time": "2023-11-06T08:01:37.898791",
     "status": "completed"
    },
    "tags": []
   },
   "source": [
    "# To convert a list of numeric values into a one-dimensional NumPy aaray"
   ]
  },
  {
   "cell_type": "code",
   "execution_count": 1,
   "id": "19c0d076",
   "metadata": {
    "_cell_guid": "b1076dfc-b9ad-4769-8c92-a6c4dae69d19",
    "_uuid": "8f2839f25d086af736a60e9eeb907d3b93b6e0e5",
    "execution": {
     "iopub.execute_input": "2023-11-06T08:01:37.909865Z",
     "iopub.status.busy": "2023-11-06T08:01:37.909497Z",
     "iopub.status.idle": "2023-11-06T08:01:37.923159Z",
     "shell.execute_reply": "2023-11-06T08:01:37.922131Z"
    },
    "papermill": {
     "duration": 0.021162,
     "end_time": "2023-11-06T08:01:37.925076",
     "exception": false,
     "start_time": "2023-11-06T08:01:37.903914",
     "status": "completed"
    },
    "tags": []
   },
   "outputs": [
    {
     "name": "stdout",
     "output_type": "stream",
     "text": [
      "[1 2 3 4 5]\n"
     ]
    }
   ],
   "source": [
    "# 216270307006\n",
    "# odedra manshvi\n",
    "\n",
    "import numpy as np\n",
    "\n",
    "list=[1,2,3,4,5]\n",
    "Array = np.array(list)\n",
    "print(Array)"
   ]
  },
  {
   "cell_type": "markdown",
   "id": "30c55d83",
   "metadata": {
    "papermill": {
     "duration": 0.00207,
     "end_time": "2023-11-06T08:01:37.929643",
     "exception": false,
     "start_time": "2023-11-06T08:01:37.927573",
     "status": "completed"
    },
    "tags": []
   },
   "source": [
    "# to create a 3x3 matrix with values ranging from 2 to 10\n",
    " "
   ]
  },
  {
   "cell_type": "code",
   "execution_count": 2,
   "id": "df31bde1",
   "metadata": {
    "execution": {
     "iopub.execute_input": "2023-11-06T08:01:37.937214Z",
     "iopub.status.busy": "2023-11-06T08:01:37.936348Z",
     "iopub.status.idle": "2023-11-06T08:01:37.942975Z",
     "shell.execute_reply": "2023-11-06T08:01:37.941834Z"
    },
    "papermill": {
     "duration": 0.013602,
     "end_time": "2023-11-06T08:01:37.945707",
     "exception": false,
     "start_time": "2023-11-06T08:01:37.932105",
     "status": "completed"
    },
    "tags": []
   },
   "outputs": [
    {
     "name": "stdout",
     "output_type": "stream",
     "text": [
      "[[ 2  3  4]\n",
      " [ 5  6  7]\n",
      " [ 8  9 10]]\n"
     ]
    }
   ],
   "source": [
    "# 216270307006\n",
    "# odedra manshvi\n",
    "\n",
    "import numpy as np\n",
    "\n",
    "values =np.arange(2,11)\n",
    "matrix=values.reshape(3,3)\n",
    "print(matrix)\n"
   ]
  },
  {
   "cell_type": "markdown",
   "id": "7e7e219f",
   "metadata": {
    "papermill": {
     "duration": 0.002261,
     "end_time": "2023-11-06T08:01:37.951060",
     "exception": false,
     "start_time": "2023-11-06T08:01:37.948799",
     "status": "completed"
    },
    "tags": []
   },
   "source": [
    "# to append values at the end of an array\n"
   ]
  },
  {
   "cell_type": "code",
   "execution_count": 3,
   "id": "92e70a26",
   "metadata": {
    "execution": {
     "iopub.execute_input": "2023-11-06T08:01:37.957528Z",
     "iopub.status.busy": "2023-11-06T08:01:37.957152Z",
     "iopub.status.idle": "2023-11-06T08:01:37.962549Z",
     "shell.execute_reply": "2023-11-06T08:01:37.961893Z"
    },
    "papermill": {
     "duration": 0.011709,
     "end_time": "2023-11-06T08:01:37.965111",
     "exception": false,
     "start_time": "2023-11-06T08:01:37.953402",
     "status": "completed"
    },
    "tags": []
   },
   "outputs": [
    {
     "name": "stdout",
     "output_type": "stream",
     "text": [
      "Original Array :  [10 20 30]\n",
      "Array after appending :  [10 20 30 40]\n"
     ]
    }
   ],
   "source": [
    "# 216270307006\n",
    "# odedra manshvi \n",
    "\n",
    "import numpy as np\n",
    "\n",
    "arr = np.array([10, 20, 30])\n",
    "print('Original Array : ', arr)\n",
    "\n",
    "arr = np.append(arr, [40])\n",
    "print('Array after appending : ', arr)"
   ]
  },
  {
   "cell_type": "markdown",
   "id": "3e53a3a6",
   "metadata": {
    "papermill": {
     "duration": 0.002251,
     "end_time": "2023-11-06T08:01:37.970132",
     "exception": false,
     "start_time": "2023-11-06T08:01:37.967881",
     "status": "completed"
    },
    "tags": []
   },
   "source": [
    "# to create another shape from an array without changing its data(3*2 to 2*3)"
   ]
  },
  {
   "cell_type": "code",
   "execution_count": 4,
   "id": "a6ff3b6f",
   "metadata": {
    "execution": {
     "iopub.execute_input": "2023-11-06T08:01:37.976666Z",
     "iopub.status.busy": "2023-11-06T08:01:37.976327Z",
     "iopub.status.idle": "2023-11-06T08:01:37.983493Z",
     "shell.execute_reply": "2023-11-06T08:01:37.981925Z"
    },
    "papermill": {
     "duration": 0.013407,
     "end_time": "2023-11-06T08:01:37.985979",
     "exception": false,
     "start_time": "2023-11-06T08:01:37.972572",
     "status": "completed"
    },
    "tags": []
   },
   "outputs": [
    {
     "name": "stdout",
     "output_type": "stream",
     "text": [
      "Reshape 3x2 :\n",
      "[[10 20]\n",
      " [30 40]\n",
      " [50 60]]\n",
      "Reshape 2x3 :\n",
      "[[10 20 30]\n",
      " [40 50 60]]\n"
     ]
    }
   ],
   "source": [
    "# 216270307006\n",
    "# odedra manshvi \n",
    "\n",
    "import numpy as np\n",
    "\n",
    "x = np.array([10, 20, 30, 40, 50, 60])\n",
    "y = np.reshape(x, (3, 2))\n",
    "\n",
    "print(\"Reshape 3x2 :\")\n",
    "print(y)\n",
    "\n",
    "z = np.reshape(x, (2, 3))\n",
    "print(\"Reshape 2x3 :\")\n",
    "print(z)"
   ]
  },
  {
   "cell_type": "code",
   "execution_count": null,
   "id": "1fc5c103",
   "metadata": {
    "papermill": {
     "duration": 0.002272,
     "end_time": "2023-11-06T08:01:37.991173",
     "exception": false,
     "start_time": "2023-11-06T08:01:37.988901",
     "status": "completed"
    },
    "tags": []
   },
   "outputs": [],
   "source": []
  }
 ],
 "metadata": {
  "kernelspec": {
   "display_name": "Python 3",
   "language": "python",
   "name": "python3"
  },
  "language_info": {
   "codemirror_mode": {
    "name": "ipython",
    "version": 3
   },
   "file_extension": ".py",
   "mimetype": "text/x-python",
   "name": "python",
   "nbconvert_exporter": "python",
   "pygments_lexer": "ipython3",
   "version": "3.10.12"
  },
  "papermill": {
   "default_parameters": {},
   "duration": 4.104998,
   "end_time": "2023-11-06T08:01:38.312049",
   "environment_variables": {},
   "exception": null,
   "input_path": "__notebook__.ipynb",
   "output_path": "__notebook__.ipynb",
   "parameters": {},
   "start_time": "2023-11-06T08:01:34.207051",
   "version": "2.4.0"
  }
 },
 "nbformat": 4,
 "nbformat_minor": 5
}
